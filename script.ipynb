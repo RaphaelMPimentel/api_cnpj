{
 "cells": [
  {
   "cell_type": "markdown",
   "id": "3e49028d",
   "metadata": {},
   "source": [
    "## 0.0 imports"
   ]
  },
  {
   "cell_type": "code",
   "execution_count": null,
   "id": "6006514d",
   "metadata": {},
   "outputs": [],
   "source": [
    "import re\n",
    "import time\n",
    "import pandas as pd\n",
    "from selenium import webdriver\n",
    "from selenium.webdriver.common.by import By\n",
    "from selenium.webdriver.chrome.service import Service\n",
    "from selenium.webdriver.support.ui import WebDriverWait\n",
    "from selenium.webdriver.support import expected_conditions as EC\n",
    "from selenium.common.exceptions import NoSuchElementException"
   ]
  },
  {
   "cell_type": "markdown",
   "id": "b22891b3",
   "metadata": {},
   "source": [
    "## 1.0 api"
   ]
  },
  {
   "cell_type": "code",
   "execution_count": null,
   "id": "b5ebc38a",
   "metadata": {},
   "outputs": [],
   "source": [
    "# CONFIGURAÇÃO DO DRIVER\n",
    "service = Service('./chromedriver') \n",
    "options = webdriver.ChromeOptions()\n",
    "driver = webdriver.Chrome(service=service, options=options)\n",
    "\n",
    "# ACESSAR O SITE\n",
    "driver.get(\"https://localize.assertivasolucoes.com.br\")\n",
    "input(\"🟡 Faça login e vá para a tela de CONSULTA POR CNPJ. Depois pressione ENTER aqui...\")\n",
    "\n",
    "# LER CNPJs DO EXCEL\n",
    "df = pd.read_excel(\"Listagem.Xlsx\", sheet_name=\"Listagem Total\")\n",
    "cnpjs_unicos = df.iloc[:, 1].dropna().astype(str).str.replace(r'\\D', '', regex=True).unique().tolist()\n",
    "\n",
    "# DICT DE RESULTADOS\n",
    "resultados = {}\n",
    "\n",
    "# LOOP DE CONSULTAS\n",
    "for cnpj in cnpjs_unicos:\n",
    "    try:\n",
    "        print(f\"\\n🔍 Consultando CNPJ: {cnpj}\")\n",
    "\n",
    "        if cnpj in resultados:\n",
    "            print(f\"⏭️ CNPJ {cnpj} já processado, pulando...\")\n",
    "            continue\n",
    "\n",
    "        # INSERE O CNPJ NO CAMPO\n",
    "        campo = WebDriverWait(driver, 15).until(\n",
    "            EC.presence_of_element_located((By.NAME, \"currentSimpleFilterValue\")))\n",
    "        campo.clear()\n",
    "        campo.send_keys(cnpj)\n",
    "\n",
    "        # CLICA EM CONSULTAR\n",
    "        WebDriverWait(driver, 15).until(\n",
    "            EC.element_to_be_clickable((By.XPATH, '//button[@type=\"submit\"]'))\n",
    "        ).click()\n",
    "\n",
    "        # AGUARDA O RESULTADO APARECER\n",
    "        WebDriverWait(driver, 20).until(\n",
    "            EC.presence_of_element_located((By.XPATH, \"//div[contains(@class, 'MuiGrid-item') and contains(., 'CNPJ:')]\"))\n",
    "        )\n",
    "        time.sleep(1.5) \n",
    "\n",
    "        # COLETAR DADOS\n",
    "        dados = {}\n",
    "\n",
    "        # Nome Fantasia\n",
    "        try:\n",
    "            full_text = driver.find_element(\n",
    "                By.XPATH, \"//strong[text()='Nome fantasia:']/parent::div\").text\n",
    "            nome_fantasia = full_text.replace(\"Nome fantasia:\", \"\").strip()\n",
    "            dados[\"Nome Fantasia\"] = nome_fantasia\n",
    "        except:\n",
    "            dados[\"Nome Fantasia\"] = \"Dado não localizado\"\n",
    "\n",
    "        # Situação\n",
    "        try:\n",
    "            dados[\"Situação\"] = driver.find_element(\n",
    "                By.XPATH, \"//div[contains(@class, 'MuiChip-root')]//span[contains(@class, 'MuiChip-label')]\"\n",
    "            ).text.strip()\n",
    "        except:\n",
    "            dados[\"Situação\"] = \"Dado não localizado\"\n",
    "\n",
    "        # Telefones\n",
    "        try:\n",
    "            telefones = []\n",
    "            if \"Não localizamos nenhum telefone\" not in driver.page_source:\n",
    "                elementos = driver.find_elements(\n",
    "                    By.XPATH, \"//div[contains(@class, 'phone')]//h6[contains(@class, 'number')]\"\n",
    "                )\n",
    "                telefones = [tel.text.strip() for tel in elementos if tel.text.strip()]\n",
    "            dados[\"Telefones\"] = ', '.join(telefones) if telefones else \"Não encontrado\"\n",
    "        except:\n",
    "            dados[\"Telefones\"] = \"Erro na captura\"\n",
    "\n",
    "        # Endereço\n",
    "        try:\n",
    "            endereco = driver.find_element(\n",
    "                By.XPATH, \"//h6[contains(@class,'MuiTypography-subtitle1')]\"\n",
    "            ).text.strip()\n",
    "            dados[\"Endereço\"] = endereco\n",
    "        except:\n",
    "            dados[\"Endereço\"] = \"Endereço não localizado\"\n",
    "\n",
    "        # Sócios\n",
    "        try:\n",
    "            socios_elementos = driver.find_elements(\n",
    "                By.XPATH, \"//div[span and p[contains(text(),'Data de entrada:')]]/span\"\n",
    "            )\n",
    "            socios = [el.text.strip() for el in socios_elementos]\n",
    "            dados[\"Sócios\"] = ', '.join(socios) if socios else \"Nenhum sócio encontrado\"\n",
    "        except NoSuchElementException:\n",
    "            dados[\"Sócios\"] = \"Nenhum sócio encontrado\"\n",
    "        except Exception as e:\n",
    "            dados[\"Sócios\"] = f\"Erro na captura: {e}\"\n",
    "            \n",
    "        # Email\n",
    "        try:\n",
    "            element = driver.find_element(\n",
    "                By.XPATH, \"//div[contains(@class, 'MuiBox-root') and contains(., '@')]\"\n",
    "            )\n",
    "            texto = element.text\n",
    "            email_match = re.search(r\"[a-zA-Z0-9._%+-]+@[a-zA-Z0-9.-]+\\.[a-zA-Z]{2,}\", texto)\n",
    "            dados[\"E-mail\"] = email_match.group(0) if email_match else \"E-mail não localizado\"\n",
    "        except NoSuchElementException:\n",
    "            dados[\"E-mail\"] = \"E-mail não localizado\"\n",
    "        except Exception as e:\n",
    "            dados[\"E-mail\"] = f\"Erro na captura: {e}\"\n",
    "\n",
    "        # ARMAZENAR RESULTADO\n",
    "        resultados[cnpj] = dados\n",
    "        print(f\"✅ Dados capturados: {dados}\")\n",
    "\n",
    "        # VOLTAR PARA TELA DE CONSULTA\n",
    "        driver.get(\"https://localize.assertivasolucoes.com.br/consulta/cnpj\")\n",
    "        time.sleep(3)\n",
    "\n",
    "    except Exception as e:\n",
    "        print(f\"❌ Erro ao processar {cnpj}: {e}\")\n",
    "        resultados[cnpj] = {\"Erro\": str(e)}\n",
    "        driver.get(\"https://localize.assertivasolucoes.com.br/consulta/cnpj\")\n",
    "        time.sleep(3)\n",
    "\n",
    "# EXPORTAR PARA EXCEL \n",
    "pd.DataFrame.from_dict(resultados, orient='index').to_excel(\"resultados_assertiva_final.xlsx\")\n",
    "print(f\"\\n✅ Processo finalizado! Total de CNPJs processados: {len(resultados)}\")\n",
    "driver.quit()"
   ]
  },
  {
   "cell_type": "markdown",
   "id": "9522d113",
   "metadata": {},
   "source": [
    "## 2.0 organizando planilha"
   ]
  },
  {
   "cell_type": "code",
   "execution_count": null,
   "id": "be12f7e9",
   "metadata": {},
   "outputs": [],
   "source": [
    "dfnew = pd.read_excel('resultados_assertiva_final.xlsx')"
   ]
  },
  {
   "cell_type": "markdown",
   "id": "3f62a853",
   "metadata": {},
   "source": [
    "### 2.1 split telefones"
   ]
  },
  {
   "cell_type": "code",
   "execution_count": null,
   "id": "6f006460",
   "metadata": {},
   "outputs": [],
   "source": [
    "telefones_split = dfnew['Telefones'].str.split(', ', expand=True)\n",
    "telefones_split.columns = [f\"Telefone_{i+1}\" for i in range(telefones_split.shape[1])]"
   ]
  },
  {
   "cell_type": "markdown",
   "id": "64fc1242",
   "metadata": {},
   "source": [
    "### 2.3 concat final"
   ]
  },
  {
   "cell_type": "code",
   "execution_count": null,
   "id": "de993ed7",
   "metadata": {},
   "outputs": [],
   "source": [
    "df_final = pd.concat([dfnew.drop(columns=[\"Telefones\"]), telefones_split], axis=1)\n",
    "df_final.to_excel(\"telefones_separados.xlsx\", index=False)"
   ]
  }
 ],
 "metadata": {
  "kernelspec": {
   "display_name": "api_viena",
   "language": "python",
   "name": "python3"
  },
  "language_info": {
   "codemirror_mode": {
    "name": "ipython",
    "version": 3
   },
   "file_extension": ".py",
   "mimetype": "text/x-python",
   "name": "python",
   "nbconvert_exporter": "python",
   "pygments_lexer": "ipython3",
   "version": "3.10.4"
  }
 },
 "nbformat": 4,
 "nbformat_minor": 5
}
